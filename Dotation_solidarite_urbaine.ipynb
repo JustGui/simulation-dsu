{
 "cells": [
  {
   "cell_type": "markdown",
   "metadata": {},
   "source": [
    "# Explication de la dotation de solidarité urbaine"
   ]
  },
  {
   "cell_type": "markdown",
   "metadata": {},
   "source": [
    "La dsu est une dotation versée chaque année par l'état aux communes de plus de 10 000 habitants. \n",
    "\n",
    "Ayant à faire face à des charges sociales. Etant considérées défavorisées fiscalement."
   ]
  },
  {
   "cell_type": "markdown",
   "metadata": {},
   "source": [
    "## Calcul de l'impact d'un changement législatif sur la DSU"
   ]
  },
  {
   "cell_type": "markdown",
   "metadata": {},
   "source": [
    "La DSU en simplifié c'est une enveloppe Annuelle. Cette enveloppe à pour objectif d'allouer des recettes (moyens) aux communes ayant a faire face à des charges sociales etant défavorisées fiscalement."
   ]
  },
  {
   "cell_type": "markdown",
   "metadata": {},
   "source": [
    "## Formule de la DSU"
   ]
  },
  {
   "cell_type": "markdown",
   "metadata": {},
   "source": [
    "```\n",
    "DSU 2019 = DSU 2018 + VENTILATION ABONDEMENT DSU NATIONALE =  DSU 2018 + (VPP  x pop x EF x IS x CR x CZ)\n",
    "\n",
    "VPP = Valeur de Point (nationale et forfaitaire)\n",
    "pop = population de la commune (DGF - INSEE)\n",
    "EF = Effort fiscal (Donnée à partir des fichier Direction générale des collectivités locales)\n",
    "IS = Indice synthétique (Addition de critères)\n",
    "CR = Coefficient de Rang\n",
    "CZ = Coffecient de zone\n",
    "\n",
    "```"
   ]
  },
  {
   "cell_type": "markdown",
   "metadata": {},
   "source": [
    "## Calcul d'indice synthétique (1)"
   ]
  },
  {
   "cell_type": "markdown",
   "metadata": {},
   "source": [
    "Le calcul de l'indice synthétique se fait à partir de 4 critères :\n",
    "\n",
    "- Le potentiel financier par hab\n",
    "- Le revenu imposable par habitant\n",
    "- La part des logements sociaux\n",
    "- La part des allocation logement"
   ]
  },
  {
   "cell_type": "markdown",
   "metadata": {},
   "source": [
    "### Le potentiel financier par hab"
   ]
  },
  {
   "cell_type": "markdown",
   "metadata": {},
   "source": [
    "Le potentiel financier par habitant des communes de plus de 10K habitants / Le potentiel financier par habitant de la commune"
   ]
  },
  {
   "cell_type": "code",
   "execution_count": 1,
   "metadata": {},
   "outputs": [],
   "source": [
    "_pfi_reference_10000 = 1292.66 #Potentiel Financier de référence au niveau national communes > 10K"
   ]
  },
  {
   "cell_type": "code",
   "execution_count": 2,
   "metadata": {},
   "outputs": [],
   "source": [
    "pfi_commune = 1101.08 #Potentiel financier de la commune pour laquelle on calcule la dotation (ICI RENNES)"
   ]
  },
  {
   "cell_type": "code",
   "execution_count": 3,
   "metadata": {},
   "outputs": [],
   "source": [
    "ecart_potentiel_financier_par_hab = _pfi_reference_10000 / pfi_commune"
   ]
  },
  {
   "cell_type": "code",
   "execution_count": 4,
   "metadata": {},
   "outputs": [
    {
     "data": {
      "text/plain": [
       "1.1739928070621573"
      ]
     },
     "execution_count": 4,
     "metadata": {},
     "output_type": "execute_result"
    }
   ],
   "source": [
    "ecart_potentiel_financier_par_hab"
   ]
  },
  {
   "cell_type": "markdown",
   "metadata": {},
   "source": [
    "### Revenu imposable par habitant"
   ]
  },
  {
   "cell_type": "markdown",
   "metadata": {},
   "source": [
    "Le revenu imposable par habitant commune plus de 10K hab / Le revenu imposable par habitant de la commune"
   ]
  },
  {
   "cell_type": "code",
   "execution_count": 5,
   "metadata": {},
   "outputs": [],
   "source": [
    "_ri_reference_10000 = 15396.50 #Le revenu imposable par habitant commune plus de 10K hab"
   ]
  },
  {
   "cell_type": "code",
   "execution_count": 6,
   "metadata": {},
   "outputs": [],
   "source": [
    "ri_commune = 13041.11 #Le revenu imposable par habitant de la commune (RENNES)"
   ]
  },
  {
   "cell_type": "code",
   "execution_count": 7,
   "metadata": {},
   "outputs": [],
   "source": [
    "ecart_revenu_imposable_par_hab = _ri_reference_10000 / ri_commune"
   ]
  },
  {
   "cell_type": "code",
   "execution_count": 8,
   "metadata": {},
   "outputs": [
    {
     "data": {
      "text/plain": [
       "1.18061269324467"
      ]
     },
     "execution_count": 8,
     "metadata": {},
     "output_type": "execute_result"
    }
   ],
   "source": [
    "ecart_revenu_imposable_par_hab"
   ]
  },
  {
   "cell_type": "markdown",
   "metadata": {},
   "source": [
    "### La part des logements sociaux"
   ]
  },
  {
   "cell_type": "markdown",
   "metadata": {},
   "source": [
    "Part des logements sociaux de la commune / part des logements sociaux de plus de 10K hab"
   ]
  },
  {
   "cell_type": "code",
   "execution_count": 9,
   "metadata": {},
   "outputs": [],
   "source": [
    "_part_des_logement_sociaux_plus_de_10000 = 0.232031"
   ]
  },
  {
   "cell_type": "code",
   "execution_count": 10,
   "metadata": {},
   "outputs": [],
   "source": [
    "part_des_logement_sociaux_de_la_commune = 0.262878 #RENNES"
   ]
  },
  {
   "cell_type": "code",
   "execution_count": 11,
   "metadata": {},
   "outputs": [],
   "source": [
    "ecart_de_pourcentage_de_logements_sociaux = part_des_logement_sociaux_de_la_commune / _part_des_logement_sociaux_plus_de_10000"
   ]
  },
  {
   "cell_type": "code",
   "execution_count": 12,
   "metadata": {},
   "outputs": [
    {
     "data": {
      "text/plain": [
       "1.132943442902026"
      ]
     },
     "execution_count": 12,
     "metadata": {},
     "output_type": "execute_result"
    }
   ],
   "source": [
    "ecart_de_pourcentage_de_logements_sociaux"
   ]
  },
  {
   "cell_type": "markdown",
   "metadata": {},
   "source": [
    "### La part des allocation logement"
   ]
  },
  {
   "cell_type": "markdown",
   "metadata": {},
   "source": [
    "Part des allocations logement plus de 10K hab / Part des allocations logements de la commune"
   ]
  },
  {
   "cell_type": "code",
   "execution_count": 13,
   "metadata": {},
   "outputs": [],
   "source": [
    "_part_des_allocations_logements_plus_de_10000 = 0.515391"
   ]
  },
  {
   "cell_type": "code",
   "execution_count": 14,
   "metadata": {},
   "outputs": [],
   "source": [
    "part_des_allocations_logements_commune = 0.64369 #RENNES"
   ]
  },
  {
   "cell_type": "code",
   "execution_count": 15,
   "metadata": {},
   "outputs": [],
   "source": [
    "ecart_de_pourcentage_allocation_logement = part_des_allocations_logements_commune / _part_des_allocations_logements_plus_de_10000"
   ]
  },
  {
   "cell_type": "code",
   "execution_count": 16,
   "metadata": {},
   "outputs": [
    {
     "data": {
      "text/plain": [
       "1.2489352743839142"
      ]
     },
     "execution_count": 16,
     "metadata": {},
     "output_type": "execute_result"
    }
   ],
   "source": [
    "ecart_de_pourcentage_allocation_logement"
   ]
  },
  {
   "cell_type": "markdown",
   "metadata": {},
   "source": [
    "## Calcul d'indice synthétique (2)"
   ]
  },
  {
   "cell_type": "code",
   "execution_count": 17,
   "metadata": {},
   "outputs": [],
   "source": [
    "ponderation_potentiel_financier = 0.30 #Possibilité de changé via amendement\n",
    "ponderation_revenu_imposable  = 0.25\n",
    "ponderation_logement_sociaux = 0.15\n",
    "ponderation_allocation_logement = 0.30"
   ]
  },
  {
   "cell_type": "code",
   "execution_count": 18,
   "metadata": {},
   "outputs": [],
   "source": [
    "c1 = ecart_potentiel_financier_par_hab * ponderation_potentiel_financier\n",
    "c2 = ecart_revenu_imposable_par_hab * ponderation_revenu_imposable\n",
    "c3 = ecart_de_pourcentage_de_logements_sociaux * ponderation_logement_sociaux\n",
    "c4 = ecart_de_pourcentage_allocation_logement * ponderation_allocation_logement"
   ]
  },
  {
   "cell_type": "code",
   "execution_count": 19,
   "metadata": {},
   "outputs": [],
   "source": [
    "indice_synthetique = c1 + c2 + c3 + c4"
   ]
  },
  {
   "cell_type": "code",
   "execution_count": 20,
   "metadata": {},
   "outputs": [
    {
     "data": {
      "text/plain": [
       "1.191973114180293"
      ]
     },
     "execution_count": 20,
     "metadata": {},
     "output_type": "execute_result"
    }
   ],
   "source": [
    "indice_synthetique ## !!"
   ]
  },
  {
   "cell_type": "markdown",
   "metadata": {},
   "source": [
    "## Coefficient de rang"
   ]
  },
  {
   "cell_type": "code",
   "execution_count": 21,
   "metadata": {},
   "outputs": [],
   "source": [
    "_nombre_de_villes_elligibles = 688 "
   ]
  },
  {
   "cell_type": "code",
   "execution_count": 22,
   "metadata": {},
   "outputs": [],
   "source": [
    "rang_de_la_commune = 313 #Par rapport à l'indice synthétique RENNES (diiférent en fonction de la commune)"
   ]
  },
  {
   "cell_type": "code",
   "execution_count": 23,
   "metadata": {},
   "outputs": [],
   "source": [
    "numerateur_coeff_rang = ((3.5 * rang_de_la_commune) + 0.5 - (4 * _nombre_de_villes_elligibles))\n",
    "denominateur_coeff_rang = 1 - _nombre_de_villes_elligibles"
   ]
  },
  {
   "cell_type": "code",
   "execution_count": 24,
   "metadata": {},
   "outputs": [],
   "source": [
    "coefficient_de_rang = numerateur_coeff_rang / denominateur_coeff_rang"
   ]
  },
  {
   "cell_type": "code",
   "execution_count": 25,
   "metadata": {},
   "outputs": [
    {
     "data": {
      "text/plain": [
       "2.410480349344978"
      ]
     },
     "execution_count": 25,
     "metadata": {},
     "output_type": "execute_result"
    }
   ],
   "source": [
    "coefficient_de_rang"
   ]
  },
  {
   "cell_type": "markdown",
   "metadata": {},
   "source": [
    "## Coefficient de QPV (Quartier Prioritaire de la Ville)"
   ]
  },
  {
   "cell_type": "markdown",
   "metadata": {},
   "source": [
    "Exprime la part des habitants des quartiers prioritaires / la population totale de la ville"
   ]
  },
  {
   "cell_type": "code",
   "execution_count": 26,
   "metadata": {},
   "outputs": [],
   "source": [
    "population_insee_de_la_commune = 222104 #RENNES Fichier DGCL"
   ]
  },
  {
   "cell_type": "code",
   "execution_count": 27,
   "metadata": {},
   "outputs": [],
   "source": [
    "population_qpv_de_la_commune = 33950 #RENNES Fichier DGCL"
   ]
  },
  {
   "cell_type": "code",
   "execution_count": 28,
   "metadata": {},
   "outputs": [],
   "source": [
    "coefficient_qpv = 1 + 2*(population_qpv_de_la_commune / population_insee_de_la_commune)"
   ]
  },
  {
   "cell_type": "code",
   "execution_count": 29,
   "metadata": {},
   "outputs": [
    {
     "data": {
      "text/plain": [
       "1.305712639124014"
      ]
     },
     "execution_count": 29,
     "metadata": {},
     "output_type": "execute_result"
    }
   ],
   "source": [
    "coefficient_qpv"
   ]
  },
  {
   "cell_type": "markdown",
   "metadata": {},
   "source": [
    "### Calcul de l'Abondement"
   ]
  },
  {
   "cell_type": "markdown",
   "metadata": {},
   "source": [
    "C'est une valeur de point qui est determiné en fonction de l'enveloppe globale à répartir entre toutes les communes. \n",
    "\n",
    "Le tout en fonction :\n",
    "\n",
    "- Des populations des communes eligibles\n",
    "- Des efforts fiscaux des communes\n",
    "- Des indices synthétiques\n",
    "- Des coefficients de QPV"
   ]
  },
  {
   "cell_type": "markdown",
   "metadata": {},
   "source": [
    "Valeur de point : Valeur déterminée pour que les critères respectent le montant l'enveloppe d'allocation DSU"
   ]
  },
  {
   "cell_type": "code",
   "execution_count": 30,
   "metadata": {},
   "outputs": [],
   "source": [
    "# ESsayer de retouver le calcul de la valeur de point"
   ]
  },
  {
   "cell_type": "code",
   "execution_count": 31,
   "metadata": {},
   "outputs": [],
   "source": [
    "_valeur_de_point = 0.57362212 #Modification en fonction des critères de dessus (POUR 2019)"
   ]
  },
  {
   "cell_type": "code",
   "execution_count": 32,
   "metadata": {},
   "outputs": [],
   "source": [
    "population_dgf = 225358  #Dans fichier DGCL (RENNES)"
   ]
  },
  {
   "cell_type": "code",
   "execution_count": 33,
   "metadata": {},
   "outputs": [],
   "source": [
    "effort_fiscal_de_la_commune = 1.3  #Dans fichier DGCL - Plafond de 1.3 - (RENNES)"
   ]
  },
  {
   "cell_type": "markdown",
   "metadata": {},
   "source": [
    "-> TODO: Parametrer le plafond de l'effort fiscal (Rentrer en input) pour tester la valeur ou l'absence de plafonnement"
   ]
  },
  {
   "cell_type": "code",
   "execution_count": 34,
   "metadata": {},
   "outputs": [],
   "source": [
    "montant_abondement = (indice_synthetique \\\n",
    "                      * population_dgf \\\n",
    "                      * effort_fiscal_de_la_commune \\\n",
    "                      * coefficient_de_rang\\\n",
    "                      * coefficient_qpv \\\n",
    "                      * _valeur_de_point)"
   ]
  },
  {
   "cell_type": "code",
   "execution_count": 35,
   "metadata": {},
   "outputs": [
    {
     "data": {
      "text/plain": [
       "630463.4082033682"
      ]
     },
     "execution_count": 35,
     "metadata": {},
     "output_type": "execute_result"
    }
   ],
   "source": [
    "montant_abondement"
   ]
  },
  {
   "cell_type": "markdown",
   "metadata": {},
   "source": [
    "## DSU 2019"
   ]
  },
  {
   "cell_type": "markdown",
   "metadata": {},
   "source": [
    "```\n",
    "DSU2019 = DSU2018 + Montant Abondement\n",
    "```"
   ]
  },
  {
   "cell_type": "code",
   "execution_count": 36,
   "metadata": {},
   "outputs": [],
   "source": [
    "DSU2018 = 9992203 #Dans le fichier DGCL"
   ]
  },
  {
   "cell_type": "code",
   "execution_count": 37,
   "metadata": {},
   "outputs": [],
   "source": [
    "DSU2019 = DSU2018 + montant_abondement"
   ]
  },
  {
   "cell_type": "code",
   "execution_count": 38,
   "metadata": {},
   "outputs": [
    {
     "data": {
      "text/plain": [
       "10622666.408203369"
      ]
     },
     "execution_count": 38,
     "metadata": {},
     "output_type": "execute_result"
    }
   ],
   "source": [
    "DSU2019"
   ]
  },
  {
   "cell_type": "code",
   "execution_count": 3,
   "metadata": {},
   "outputs": [],
   "source": [
    "import pandas as pd"
   ]
  },
  {
   "cell_type": "code",
   "execution_count": 40,
   "metadata": {},
   "outputs": [],
   "source": [
    "df = pd.DataFrame({'part': [montant_abondement, DSU2018]},\n",
    "                  index=['Abondement', 'DSU2018'])"
   ]
  },
  {
   "cell_type": "code",
   "execution_count": 41,
   "metadata": {},
   "outputs": [
    {
     "data": {
      "image/png": "[encoded data removed]",
      "text/plain": [
       "<Figure size 360x360 with 1 Axes>"
      ]
     },
     "metadata": {},
     "output_type": "display_data"
    }
   ],
   "source": [
    "plot = df.plot.pie(y='part', figsize=(5, 5))"
   ]
  },
  {
   "cell_type": "markdown",
   "metadata": {},
   "source": [
    "\n",
    "# Import fichier"
   ]
  },
  {
   "cell_type": "code",
   "execution_count": 4,
   "metadata": {},
   "outputs": [
    {
     "name": "stderr",
     "output_type": "stream",
     "text": [
      "/root/Bureau/dotation_de_solidarite_urbaine/venv/lib/python3.7/site-packages/IPython/core/interactiveshell.py:3051: DtypeWarning: Columns (0,2) have mixed types. Specify dtype option on import or set low_memory=False.\n",
      "  interactivity=interactivity, compiler=compiler, result=result)\n"
     ]
    }
   ],
   "source": [
    "df = pd.read_csv(\"2019-communes-criteres-repartition.csv\", decimal=\",\")"
   ]
  },
  {
   "cell_type": "code",
   "execution_count": 43,
   "metadata": {},
   "outputs": [
    {
     "data": {
      "text/plain": [
       "0.6666666666666666"
      ]
     },
     "execution_count": 43,
     "metadata": {},
     "output_type": "execute_result"
    }
   ],
   "source": [
    "2/3"
   ]
  },
  {
   "cell_type": "code",
   "execution_count": 44,
   "metadata": {},
   "outputs": [],
   "source": [
    "import numpy as np\n",
    "#Sont  désormais  éligibles  les  deux  premiers  tiers  des  communes  de  plus  de  10000 habitants  (au  lieu  des  trois  premiers  quarts  auparavant)  et  le  premier  dixième  des communes  de  5000  à  9999 habitants, classées en fonction d’un indice synthétique de ressources et de charges\n",
    "_nombre_de_villes_elligibles = len(df[\"RANG_DSU_SUP_10K\"].replace(0, np.nan).dropna()) * (2/3) #Les deux tiers de 1032"
   ]
  },
  {
   "cell_type": "code",
   "execution_count": 45,
   "metadata": {},
   "outputs": [
    {
     "data": {
      "text/plain": [
       "688.0"
      ]
     },
     "execution_count": 45,
     "metadata": {},
     "output_type": "execute_result"
    }
   ],
   "source": [
    "_nombre_de_villes_elligibles"
   ]
  },
  {
   "cell_type": "code",
   "execution_count": 46,
   "metadata": {},
   "outputs": [
    {
     "data": {
      "text/html": [
       "<div>\n",
       "<style scoped>\n",
       "    .dataframe tbody tr th:only-of-type {\n",
       "        vertical-align: middle;\n",
       "    }\n",
       "\n",
       "    .dataframe tbody tr th {\n",
       "        vertical-align: top;\n",
       "    }\n",
       "\n",
       "    .dataframe thead th {\n",
       "        text-align: right;\n",
       "    }\n",
       "</style>\n",
       "<table border=\"1\" class=\"dataframe\">\n",
       "  <thead>\n",
       "    <tr style=\"text-align: right;\">\n",
       "      <th></th>\n",
       "      <th>Informations générales - Code INSEE de la commune</th>\n",
       "      <th>Informations générales - Nom de la commune</th>\n",
       "      <th>Informations générales - Code département de la commune</th>\n",
       "      <th>Informations générales - Code SIREN de l'EPCI</th>\n",
       "      <th>Informations générales - Nom de l'EPCI</th>\n",
       "      <th>Informations générales - Exercice</th>\n",
       "      <th>Informations générales - Régime fiscal EPCI</th>\n",
       "      <th>Informations générales - Population DGF Année N'</th>\n",
       "      <th>Informations générales - Population INSEE Année N</th>\n",
       "      <th>Informations générales - Résidences secondaires Année N</th>\n",
       "      <th>...</th>\n",
       "      <th>Dotation de solidarité urbaine - Revenu imposable moyen par habitant des communes mét de 5000 à 9999 habitants</th>\n",
       "      <th>Dotation de solidarité urbaine - Valeur de l'indice synthétique de classement de la commune à la DSU</th>\n",
       "      <th>RANG_DSU_SUP_10K</th>\n",
       "      <th>RANG_DSU_5K_A_10K</th>\n",
       "      <th>Dotation de solidarité urbaine - Montant de la garantie effectivement appliquée à la commune</th>\n",
       "      <th>Dotation de solidarité urbaine - Population QPV</th>\n",
       "      <th>Dotation de solidarité urbaine - Population ZFU</th>\n",
       "      <th>Dotation de solidarité urbaine - Montant attribution spontanée DSU</th>\n",
       "      <th>Dotation de solidarité urbaine - Montant progression de la DSU</th>\n",
       "      <th>Dotation de solidarité urbaine - Montant total réparti</th>\n",
       "    </tr>\n",
       "  </thead>\n",
       "  <tbody>\n",
       "    <tr>\n",
       "      <th>0</th>\n",
       "      <td>1001</td>\n",
       "      <td>ABERGEMENT-CLEMENCIAT</td>\n",
       "      <td>1</td>\n",
       "      <td>200069193.0</td>\n",
       "      <td>CC DE LA DOMBES</td>\n",
       "      <td>2019</td>\n",
       "      <td>FPU</td>\n",
       "      <td>800</td>\n",
       "      <td>785</td>\n",
       "      <td>15</td>\n",
       "      <td>...</td>\n",
       "      <td>14861.978197</td>\n",
       "      <td>0.000000</td>\n",
       "      <td>0</td>\n",
       "      <td>0</td>\n",
       "      <td>0</td>\n",
       "      <td>0</td>\n",
       "      <td>0</td>\n",
       "      <td>0</td>\n",
       "      <td>0</td>\n",
       "      <td>0</td>\n",
       "    </tr>\n",
       "    <tr>\n",
       "      <th>1</th>\n",
       "      <td>1002</td>\n",
       "      <td>ABERGEMENT-DE-VAREY</td>\n",
       "      <td>1</td>\n",
       "      <td>240100883.0</td>\n",
       "      <td>CC DE LA PLAINE DE L'AIN</td>\n",
       "      <td>2019</td>\n",
       "      <td>FPU</td>\n",
       "      <td>294</td>\n",
       "      <td>244</td>\n",
       "      <td>50</td>\n",
       "      <td>...</td>\n",
       "      <td>14861.978197</td>\n",
       "      <td>0.000000</td>\n",
       "      <td>0</td>\n",
       "      <td>0</td>\n",
       "      <td>0</td>\n",
       "      <td>0</td>\n",
       "      <td>0</td>\n",
       "      <td>0</td>\n",
       "      <td>0</td>\n",
       "      <td>0</td>\n",
       "    </tr>\n",
       "    <tr>\n",
       "      <th>2</th>\n",
       "      <td>1004</td>\n",
       "      <td>AMBERIEU-EN-BUGEY</td>\n",
       "      <td>1</td>\n",
       "      <td>240100883.0</td>\n",
       "      <td>CC DE LA PLAINE DE L'AIN</td>\n",
       "      <td>2019</td>\n",
       "      <td>FPU</td>\n",
       "      <td>14702</td>\n",
       "      <td>14518</td>\n",
       "      <td>120</td>\n",
       "      <td>...</td>\n",
       "      <td>14861.978197</td>\n",
       "      <td>1.165206</td>\n",
       "      <td>345</td>\n",
       "      <td>0</td>\n",
       "      <td>0</td>\n",
       "      <td>1739</td>\n",
       "      <td>0</td>\n",
       "      <td>347085</td>\n",
       "      <td>28379</td>\n",
       "      <td>375464</td>\n",
       "    </tr>\n",
       "    <tr>\n",
       "      <th>3</th>\n",
       "      <td>1005</td>\n",
       "      <td>AMBERIEUX-EN-DOMBES</td>\n",
       "      <td>1</td>\n",
       "      <td>200042497.0</td>\n",
       "      <td>CC DOMBES SAONE VALLEE</td>\n",
       "      <td>2019</td>\n",
       "      <td>FPU</td>\n",
       "      <td>1717</td>\n",
       "      <td>1705</td>\n",
       "      <td>12</td>\n",
       "      <td>...</td>\n",
       "      <td>14861.978197</td>\n",
       "      <td>0.000000</td>\n",
       "      <td>0</td>\n",
       "      <td>0</td>\n",
       "      <td>0</td>\n",
       "      <td>0</td>\n",
       "      <td>0</td>\n",
       "      <td>0</td>\n",
       "      <td>0</td>\n",
       "      <td>0</td>\n",
       "    </tr>\n",
       "    <tr>\n",
       "      <th>4</th>\n",
       "      <td>1006</td>\n",
       "      <td>AMBLEON</td>\n",
       "      <td>1</td>\n",
       "      <td>200040350.0</td>\n",
       "      <td>CC BUGEY SUD</td>\n",
       "      <td>2019</td>\n",
       "      <td>FPU</td>\n",
       "      <td>127</td>\n",
       "      <td>116</td>\n",
       "      <td>11</td>\n",
       "      <td>...</td>\n",
       "      <td>14861.978197</td>\n",
       "      <td>0.000000</td>\n",
       "      <td>0</td>\n",
       "      <td>0</td>\n",
       "      <td>0</td>\n",
       "      <td>0</td>\n",
       "      <td>0</td>\n",
       "      <td>0</td>\n",
       "      <td>0</td>\n",
       "      <td>0</td>\n",
       "    </tr>\n",
       "  </tbody>\n",
       "</table>\n",
       "<p>5 rows × 131 columns</p>\n",
       "</div>"
      ],
      "text/plain": [
       "  Informations générales - Code INSEE de la commune  \\\n",
       "0                                              1001   \n",
       "1                                              1002   \n",
       "2                                              1004   \n",
       "3                                              1005   \n",
       "4                                              1006   \n",
       "\n",
       "  Informations générales - Nom de la commune  \\\n",
       "0                      ABERGEMENT-CLEMENCIAT   \n",
       "1                        ABERGEMENT-DE-VAREY   \n",
       "2                          AMBERIEU-EN-BUGEY   \n",
       "3                        AMBERIEUX-EN-DOMBES   \n",
       "4                                    AMBLEON   \n",
       "\n",
       "  Informations générales - Code département de la commune  \\\n",
       "0                                                  1        \n",
       "1                                                  1        \n",
       "2                                                  1        \n",
       "3                                                  1        \n",
       "4                                                  1        \n",
       "\n",
       "   Informations générales - Code SIREN de l'EPCI  \\\n",
       "0                                    200069193.0   \n",
       "1                                    240100883.0   \n",
       "2                                    240100883.0   \n",
       "3                                    200042497.0   \n",
       "4                                    200040350.0   \n",
       "\n",
       "  Informations générales - Nom de l'EPCI  Informations générales - Exercice  \\\n",
       "0                        CC DE LA DOMBES                               2019   \n",
       "1               CC DE LA PLAINE DE L'AIN                               2019   \n",
       "2               CC DE LA PLAINE DE L'AIN                               2019   \n",
       "3                 CC DOMBES SAONE VALLEE                               2019   \n",
       "4                           CC BUGEY SUD                               2019   \n",
       "\n",
       "  Informations générales - Régime fiscal EPCI  \\\n",
       "0                                         FPU   \n",
       "1                                         FPU   \n",
       "2                                         FPU   \n",
       "3                                         FPU   \n",
       "4                                         FPU   \n",
       "\n",
       "   Informations générales - Population DGF Année N'  \\\n",
       "0                                               800   \n",
       "1                                               294   \n",
       "2                                             14702   \n",
       "3                                              1717   \n",
       "4                                               127   \n",
       "\n",
       "   Informations générales - Population INSEE Année N   \\\n",
       "0                                                785    \n",
       "1                                                244    \n",
       "2                                              14518    \n",
       "3                                               1705    \n",
       "4                                                116    \n",
       "\n",
       "   Informations générales - Résidences secondaires Année N  ...  \\\n",
       "0                                                 15        ...   \n",
       "1                                                 50        ...   \n",
       "2                                                120        ...   \n",
       "3                                                 12        ...   \n",
       "4                                                 11        ...   \n",
       "\n",
       "   Dotation de solidarité urbaine - Revenu imposable moyen par habitant des communes mét de 5000 à 9999 habitants  \\\n",
       "0                                       14861.978197                                                                \n",
       "1                                       14861.978197                                                                \n",
       "2                                       14861.978197                                                                \n",
       "3                                       14861.978197                                                                \n",
       "4                                       14861.978197                                                                \n",
       "\n",
       "   Dotation de solidarité urbaine - Valeur de l'indice synthétique de classement de la commune à la DSU  \\\n",
       "0                                           0.000000                                                      \n",
       "1                                           0.000000                                                      \n",
       "2                                           1.165206                                                      \n",
       "3                                           0.000000                                                      \n",
       "4                                           0.000000                                                      \n",
       "\n",
       "   RANG_DSU_SUP_10K  RANG_DSU_5K_A_10K  \\\n",
       "0                 0                  0   \n",
       "1                 0                  0   \n",
       "2               345                  0   \n",
       "3                 0                  0   \n",
       "4                 0                  0   \n",
       "\n",
       "   Dotation de solidarité urbaine - Montant de la garantie effectivement appliquée à la commune  \\\n",
       "0                                                  0                                              \n",
       "1                                                  0                                              \n",
       "2                                                  0                                              \n",
       "3                                                  0                                              \n",
       "4                                                  0                                              \n",
       "\n",
       "   Dotation de solidarité urbaine - Population QPV  \\\n",
       "0                                                0   \n",
       "1                                                0   \n",
       "2                                             1739   \n",
       "3                                                0   \n",
       "4                                                0   \n",
       "\n",
       "   Dotation de solidarité urbaine - Population ZFU  \\\n",
       "0                                                0   \n",
       "1                                                0   \n",
       "2                                                0   \n",
       "3                                                0   \n",
       "4                                                0   \n",
       "\n",
       "   Dotation de solidarité urbaine - Montant attribution spontanée DSU  \\\n",
       "0                                                  0                    \n",
       "1                                                  0                    \n",
       "2                                             347085                    \n",
       "3                                                  0                    \n",
       "4                                                  0                    \n",
       "\n",
       "   Dotation de solidarité urbaine - Montant progression de la DSU  \\\n",
       "0                                                  0                \n",
       "1                                                  0                \n",
       "2                                              28379                \n",
       "3                                                  0                \n",
       "4                                                  0                \n",
       "\n",
       "   Dotation de solidarité urbaine - Montant total réparti  \n",
       "0                                                  0       \n",
       "1                                                  0       \n",
       "2                                             375464       \n",
       "3                                                  0       \n",
       "4                                                  0       \n",
       "\n",
       "[5 rows x 131 columns]"
      ]
     },
     "execution_count": 46,
     "metadata": {},
     "output_type": "execute_result"
    }
   ],
   "source": [
    "df = df.head()\n",
    "df"
   ]
  },
  {
   "cell_type": "code",
   "execution_count": 13,
   "metadata": {},
   "outputs": [],
   "source": [
    "df2 = df[[\"Informations générales - Nom de la commune\",\n",
    "          \"Informations générales - Population DGF Année N'\",\n",
    "          \"Informations générales - Population INSEE Année N \",\n",
    "          \"Informations générales - Code département de la commune\",\n",
    "          \"Dotation de solidarité urbaine - Nombre de bénéficiaires des aides au logement de la commune\",\n",
    "          \"Dotation de solidarité urbaine - Nombre de logements TH de la commune\",\n",
    "          \"Dotation de solidarité urbaine - Part des bénéficiaires d'aides au logement par rapport au nombre de logements des communes mét de plus de 10000 habitants\",\n",
    "          \"Dotation de solidarité urbaine - Nombre de logements sociaux de la commune\",\n",
    "          \"Dotation de solidarité urbaine - Part des logements sociaux dans le total des logements des communes métropolitaines de plus de 10000 habitants\",\n",
    "          \"Dotation de solidarité urbaine - Revenu imposable moyen par habitant des communes mét de plus de 10 000 habitants\",\n",
    "          \"Dotation de solidarité urbaine - Revenu imposable par habitant\",\n",
    "          \"Dotation de solidarité urbaine - Potentiel financier moyen par habitant des communes métropolitaines de plus de 10000 habitants\",\n",
    "          \"Potentiel fiscal et financier des communes - Potentiel financier par habitant\",\n",
    "          \"EFFORT_FISCAL\",\n",
    "          \"RANG_DSU_SUP_10K\",\n",
    "          \"RANG_DSU_5K_A_10K\",\n",
    "          \"Dotation de solidarité urbaine - Montant attribution spontanée DSU\"\n",
    "         ]]"
   ]
  },
  {
   "cell_type": "code",
   "execution_count": 48,
   "metadata": {},
   "outputs": [
    {
     "name": "stdout",
     "output_type": "stream",
     "text": [
      "Informations générales - Code INSEE de la commune\n",
      "Informations générales - Nom de la commune\n",
      "Informations générales - Code département de la commune\n",
      "Informations générales - Code SIREN de l'EPCI\n",
      "Informations générales - Nom de l'EPCI\n",
      "Informations générales - Exercice\n",
      "Informations générales - Régime fiscal EPCI\n",
      "Informations générales - Population DGF Année N'\n",
      "Informations générales - Population INSEE Année N \n",
      "Informations générales - Résidences secondaires Année N\n",
      "Informations générales - Places de caravanes Année N\n",
      "Informations générales - Strate démographique Année N\n",
      "Informations générales - Superficie 2019\n",
      "Potentiel fiscal et financier des communes - Potentiel fiscal 3 taxes\n",
      "Potentiel fiscal et financier des communes - Potentiel fiscal 4 taxes\n",
      "Potentiel fiscal et financier des communes - Potentiel fiscal 4 taxes par habitant\n",
      "Potentiel fiscal et financier des communes - Potentiel financier\n",
      "Potentiel fiscal et financier des communes - Potentiel financier par habitant\n",
      "Potentiel fiscal et financier des communes - Potentiel financier superficiaire\n",
      "Potentiel fiscal et financier des communes - Potentiel fiscal moyen de la strate\n",
      "Potentiel fiscal et financier des communes - Potentiel financier moyen de la strate\n",
      "Potentiel fiscal et financier des communes - Régime fiscal de l'EPCI N-1\n",
      "Potentiel fiscal et financier des communes - Population DGF N de l'EPCI sur son périmètre N-1\n",
      "Potentiel fiscal et financier des communes - Bases brutes de FB\n",
      "Potentiel fiscal et financier des communes - Bases brutes de FNB\n",
      "Potentiel fiscal et financier des communes - Bases brutes de TH\n",
      "Potentiel fiscal et financier des communes - TAFNB perçue par la commune\n",
      "Potentiel fiscal et financier des communes - TAFNB perçue par l'EPCI sur la commune\n",
      "Potentiel fiscal et financier des communes - TAFNB totale perçue par l'EPCI (FPU)\n",
      "Potentiel fiscal et financier des communes - Bases brutes de TH totales de l'EPCI (FPU)\n",
      "Potentiel fiscal et financier des communes - Bases brutes de CFE de la commune\n",
      "Potentiel fiscal et financier des communes - Produit de CVAE de la commune\n",
      "Potentiel fiscal et financier des communes - Produit d'IFER de la commune\n",
      "Potentiel fiscal et financier des communes - Produit de TASCOM de la commune\n",
      "Potentiel fiscal et financier des communes - Redevance des mines (CA N-2)\n",
      "Potentiel fiscal et financier des communes - Prélèvements communaux sur le produits des jeux\n",
      "Potentiel fiscal et financier des communes - Taxe sur les jeux EPCI\n",
      "Potentiel fiscal et financier des communes - Surtaxe eaux minérales\n",
      "Potentiel fiscal et financier des communes - Montant de DCRTP de la commune\n",
      "Potentiel fiscal et financier des communes - Reversement au titre du FNGIR de la commune\n",
      "Potentiel fiscal et financier des communes - Prélèvement au titre du FNGIR de la commune\n",
      "Potentiel fiscal et financier des communes - Part CPS 2014 commune indexée Tx forfaitaire\n",
      "Potentiel fiscal et financier des communes - Part DCTP 2014 commune indexée Tx forfaitaire\n",
      "Potentiel fiscal et financier des communes - Part CPS N-1 nette de l'EPCI - Prélèvement sur fiscalité TASCOM\n",
      "Potentiel fiscal et financier des communes - Attribution de compensation de la commune\n",
      "Potentiel fiscal et financier des communes - ACNE\n",
      "Potentiel fiscal et financier des communes - Somme des attributions de compensation de l'EPCI\n",
      "Potentiel fiscal et financier des communes - Somme des ACNE de l'EPCI\n",
      "Potentiel fiscal et financier des communes - CVAE perçue par l'EPCI sur la commune\n",
      "Potentiel fiscal et financier des communes - IFER perçues par l'EPCI sur la commune\n",
      "Potentiel fiscal et financier des communes - TASCOM perçue par l'EPCI sur la commune\n",
      "Potentiel fiscal et financier des communes - Bases brutes de CFE de l'EPCI sur ZAE/ZE\n",
      "Potentiel fiscal et financier des communes - CVAE perçue par l'EPCI sur ZAE\n",
      "Potentiel fiscal et financier des communes - IFER perçues par EPCI sur ZAE/ZE\n",
      "Potentiel fiscal et financier des communes - TASCOM perçue par l'EPCI sur ZAE\n",
      "Potentiel fiscal et financier des communes - Bases brutes de CFE de l'EPCI (hors ZAE/ZE)\n",
      "Potentiel fiscal et financier des communes - CVAE perçue par l'EPCI (hors ZAE)\n",
      "Potentiel fiscal et financier des communes - IFER perçues par l'EPCI (hors ZAE/ZE)\n",
      "Potentiel fiscal et financier des communes - TASCOM perçue par l'EPCI (hors ZAE)\n",
      "Potentiel fiscal et financier des communes - Montant de DCRTP de l'EPCI\n",
      "Potentiel fiscal et financier des communes - Reversement au titre du FNGIR de l'EPCI\n",
      "Potentiel fiscal et financier des communes - Prélèvement au titre du FNGIR de l'EPCI\n",
      "Potentiel fiscal et financier des communes - Produits EPCI à ventiler\n",
      "Potentiel fiscal et financier des communes - Produits EPCI ventilés\n",
      "Potentiel fiscal et financier des communes - Produits communaux\n",
      "Potentiel fiscal et financier des communes - Produits EPCI territorialisés\n",
      "Potentiel fiscal et financier des communes - Dotation forfaitaire N-1 notifiée sur périmètre N\n",
      "Potentiel fiscal et financier des communes - Prélèvements sur fiscalité N-1 au titre du III de l article L 2334-7 CGCT sur périmètre N\n",
      "Potentiel fiscal et financier des communes - Prélèvements sur fiscalité CRFP N-1 sur périmètre N\n",
      "Potentiel fiscal et financier des communes - Dotation de consolidation pour les CN (2017) sur périmètre N\n",
      "Potentiel fiscal et financier des communes - Reliquat départemental CRFP Paris Année N\n",
      "Potentiel fiscal et financier des communes - Participation obligatoire aux dépenses d aide sociale et de santé du département de Paris\n",
      "EFFORT_FISCAL\n",
      "Effort fiscal - Effort fiscal moyen de la strate\n",
      "Effort fiscal - Potentiel fiscal 3 taxes (dénominateur effort fiscal)\n",
      "Effort fiscal - Produit net FB\n",
      "Effort fiscal - Produit net FNB (hors TAFNB)\n",
      "Effort fiscal - Produit net TH\n",
      "Effort fiscal - Produit 3 taxes EPCI\n",
      "Effort fiscal - Produit effort fiscal avant écrêtement\n",
      "Effort fiscal - Bases nettes FB\n",
      "Effort fiscal - Bases nettes FNB\n",
      "Effort fiscal - Bases nettes TH\n",
      "Effort fiscal - Taux moyen pondéré N-1\n",
      "Effort fiscal - Taux moyen pondéré N-1 strate\n",
      "Effort fiscal - Taux moyen pondéré N\n",
      "Effort fiscal - Taux moyen pondéré N strate\n",
      "Effort fiscal - Produit effort fiscal après écrêtement\n",
      "Effort fiscal - Exonérations 1396\n",
      "Effort fiscal - TEOM commune\n",
      "Effort fiscal - TEOM EPCI\n",
      "Effort fiscal - TEOM syndicat\n",
      "Effort fiscal - REOM commune\n",
      "Effort fiscal - REOM EPCI\n",
      "Effort fiscal - REOM syndicat\n",
      "Effort fiscal - Produit total effort fiscal (numérateur)\n",
      "Dotation forfaitaire - Dotation forfaitaire notifiée N\n",
      "Dotation forfaitaire - CPS 2019 des communes\n",
      "Dotation forfaitaire - Dotation forfaitaire N-1 après retraitement CPS Année N\n",
      "Dotation forfaitaire - Population DGF major�e\n",
      "Dotation forfaitaire - Part dynamique de la population des communes\n",
      "Dotation forfaitaire - Montant de la garantie de non-baisse pour les communes nouvelles\n",
      "Dotation forfaitaire - Montant de la majoration de 5% pour les communes nouvelles\n",
      "Dotation forfaitaire - Recettes réelles de fonctionnement des communes N-2 pour Année N\n",
      "Dotation forfaitaire - Montant de l'écrêtement\n",
      "Dotation forfaitaire - Dotation complémentaire touristique pour Année N\n",
      "Dotation forfaitaire - Dotation supplémentaire touristique pour Année N\n",
      "Dotation forfaitaire - Dotation ville centre pour Année N\n",
      "Dotation forfaitaire - Prélèvement sur fiscalité au titre de la contribution au redressement des finances publiques depuis 2018\n",
      "Dotation de solidarité urbaine - Potentiel financier moyen par habitant des communes métropolitaines de plus de 10000 habitants\n",
      "Dotation de solidarité urbaine - Potentiel financier moyen par habitant des communes métropolitaines de 5000 à 9999 habitants\n",
      "Dotation de solidarité urbaine - Nombre de logements TH de la commune\n",
      "Dotation de solidarité urbaine - Nombre de logements sociaux de la commune\n",
      "Dotation de solidarité urbaine - Part des logements sociaux dans le total des logements des communes métropolitaines de plus de 10000 habitants\n",
      "Dotation de solidarité urbaine - Part des logements sociaux dans le total des logements des communes métropolitaines de 5000 à 9999 habitants\n",
      "Dotation de solidarité urbaine - Nombre de bénéficiaires des aides au logement de la commune\n",
      "Dotation de solidarité urbaine - Part des bénéficiaires d'aides au logement par rapport au nombre de logements des communes mét de plus de 10000 habitants\n",
      "Dotation de solidarité urbaine - Part des bénéficiaires d'aides au logement par rapport au nombre de logements des communes mét de 5000 à 9999 habitants\n",
      "Dotation de solidarité urbaine - Revenu imposable des habitants de la commune\n",
      "Dotation de solidarité urbaine - Revenu imposable par habitant\n",
      "Dotation de solidarité urbaine - Revenu imposable moyen par habitant des communes mét de plus de 10 000 habitants\n",
      "Dotation de solidarité urbaine - Revenu imposable moyen par habitant des communes mét de 5000 à 9999 habitants\n",
      "Dotation de solidarité urbaine - Valeur de l'indice synthétique de classement de la commune à la DSU\n",
      "RANG_DSU_SUP_10K\n",
      "RANG_DSU_5K_A_10K\n",
      "Dotation de solidarité urbaine - Montant de la garantie effectivement appliquée à la commune\n",
      "Dotation de solidarité urbaine - Population QPV\n",
      "Dotation de solidarité urbaine - Population ZFU\n",
      "Dotation de solidarité urbaine - Montant attribution spontanée DSU\n",
      "Dotation de solidarité urbaine - Montant progression de la DSU\n",
      "Dotation de solidarité urbaine - Montant total réparti\n"
     ]
    }
   ],
   "source": [
    "for d in df.columns:\n",
    "    print(d)"
   ]
  },
  {
   "cell_type": "code",
   "execution_count": 49,
   "metadata": {},
   "outputs": [
    {
     "data": {
      "text/html": [
       "<div>\n",
       "<style scoped>\n",
       "    .dataframe tbody tr th:only-of-type {\n",
       "        vertical-align: middle;\n",
       "    }\n",
       "\n",
       "    .dataframe tbody tr th {\n",
       "        vertical-align: top;\n",
       "    }\n",
       "\n",
       "    .dataframe thead th {\n",
       "        text-align: right;\n",
       "    }\n",
       "</style>\n",
       "<table border=\"1\" class=\"dataframe\">\n",
       "  <thead>\n",
       "    <tr style=\"text-align: right;\">\n",
       "      <th></th>\n",
       "      <th>Informations générales - Nom de la commune</th>\n",
       "      <th>Informations générales - Population DGF Année N'</th>\n",
       "      <th>Informations générales - Population INSEE Année N</th>\n",
       "      <th>Informations générales - Code département de la commune</th>\n",
       "      <th>Dotation de solidarité urbaine - Nombre de bénéficiaires des aides au logement de la commune</th>\n",
       "      <th>Dotation de solidarité urbaine - Nombre de logements TH de la commune</th>\n",
       "      <th>Dotation de solidarité urbaine - Part des bénéficiaires d'aides au logement par rapport au nombre de logements des communes mét de plus de 10000 habitants</th>\n",
       "      <th>Dotation de solidarité urbaine - Nombre de logements sociaux de la commune</th>\n",
       "      <th>Dotation de solidarité urbaine - Part des logements sociaux dans le total des logements des communes métropolitaines de plus de 10000 habitants</th>\n",
       "      <th>Dotation de solidarité urbaine - Revenu imposable moyen par habitant des communes mét de plus de 10 000 habitants</th>\n",
       "      <th>Dotation de solidarité urbaine - Revenu imposable par habitant</th>\n",
       "      <th>Dotation de solidarité urbaine - Potentiel financier moyen par habitant des communes métropolitaines de plus de 10000 habitants</th>\n",
       "      <th>Potentiel fiscal et financier des communes - Potentiel financier par habitant</th>\n",
       "      <th>EFFORT_FISCAL</th>\n",
       "      <th>RANG_DSU_SUP_10K</th>\n",
       "      <th>RANG_DSU_5K_A_10K</th>\n",
       "      <th>Dotation de solidarité urbaine - Montant attribution spontanée DSU</th>\n",
       "    </tr>\n",
       "  </thead>\n",
       "  <tbody>\n",
       "    <tr>\n",
       "      <th>0</th>\n",
       "      <td>ABERGEMENT-CLEMENCIAT</td>\n",
       "      <td>800</td>\n",
       "      <td>785</td>\n",
       "      <td>1</td>\n",
       "      <td>50</td>\n",
       "      <td>334</td>\n",
       "      <td>0.515391</td>\n",
       "      <td>22</td>\n",
       "      <td>0.232031</td>\n",
       "      <td>15396.50086</td>\n",
       "      <td>15554.129936</td>\n",
       "      <td>1292.661052</td>\n",
       "      <td>593.907500</td>\n",
       "      <td>0.873822</td>\n",
       "      <td>0</td>\n",
       "      <td>0</td>\n",
       "      <td>0</td>\n",
       "    </tr>\n",
       "    <tr>\n",
       "      <th>1</th>\n",
       "      <td>ABERGEMENT-DE-VAREY</td>\n",
       "      <td>294</td>\n",
       "      <td>244</td>\n",
       "      <td>1</td>\n",
       "      <td>20</td>\n",
       "      <td>158</td>\n",
       "      <td>0.515391</td>\n",
       "      <td>0</td>\n",
       "      <td>0.232031</td>\n",
       "      <td>15396.50086</td>\n",
       "      <td>15846.807377</td>\n",
       "      <td>1292.661052</td>\n",
       "      <td>731.578231</td>\n",
       "      <td>0.719266</td>\n",
       "      <td>0</td>\n",
       "      <td>0</td>\n",
       "      <td>0</td>\n",
       "    </tr>\n",
       "    <tr>\n",
       "      <th>2</th>\n",
       "      <td>AMBERIEU-EN-BUGEY</td>\n",
       "      <td>14702</td>\n",
       "      <td>14518</td>\n",
       "      <td>1</td>\n",
       "      <td>4179</td>\n",
       "      <td>6936</td>\n",
       "      <td>0.515391</td>\n",
       "      <td>1856</td>\n",
       "      <td>0.232031</td>\n",
       "      <td>15396.50086</td>\n",
       "      <td>13412.456743</td>\n",
       "      <td>1292.661052</td>\n",
       "      <td>1093.845395</td>\n",
       "      <td>1.036655</td>\n",
       "      <td>345</td>\n",
       "      <td>0</td>\n",
       "      <td>347085</td>\n",
       "    </tr>\n",
       "    <tr>\n",
       "      <th>3</th>\n",
       "      <td>AMBERIEUX-EN-DOMBES</td>\n",
       "      <td>1717</td>\n",
       "      <td>1705</td>\n",
       "      <td>1</td>\n",
       "      <td>184</td>\n",
       "      <td>676</td>\n",
       "      <td>0.515391</td>\n",
       "      <td>33</td>\n",
       "      <td>0.232031</td>\n",
       "      <td>15396.50086</td>\n",
       "      <td>14992.326686</td>\n",
       "      <td>1292.661052</td>\n",
       "      <td>700.956319</td>\n",
       "      <td>1.062563</td>\n",
       "      <td>0</td>\n",
       "      <td>0</td>\n",
       "      <td>0</td>\n",
       "    </tr>\n",
       "    <tr>\n",
       "      <th>4</th>\n",
       "      <td>AMBLEON</td>\n",
       "      <td>127</td>\n",
       "      <td>116</td>\n",
       "      <td>1</td>\n",
       "      <td>5</td>\n",
       "      <td>67</td>\n",
       "      <td>0.515391</td>\n",
       "      <td>0</td>\n",
       "      <td>0.232031</td>\n",
       "      <td>15396.50086</td>\n",
       "      <td>15132.862069</td>\n",
       "      <td>1292.661052</td>\n",
       "      <td>574.165354</td>\n",
       "      <td>0.904348</td>\n",
       "      <td>0</td>\n",
       "      <td>0</td>\n",
       "      <td>0</td>\n",
       "    </tr>\n",
       "  </tbody>\n",
       "</table>\n",
       "</div>"
      ],
      "text/plain": [
       "  Informations générales - Nom de la commune  \\\n",
       "0                      ABERGEMENT-CLEMENCIAT   \n",
       "1                        ABERGEMENT-DE-VAREY   \n",
       "2                          AMBERIEU-EN-BUGEY   \n",
       "3                        AMBERIEUX-EN-DOMBES   \n",
       "4                                    AMBLEON   \n",
       "\n",
       "   Informations générales - Population DGF Année N'  \\\n",
       "0                                               800   \n",
       "1                                               294   \n",
       "2                                             14702   \n",
       "3                                              1717   \n",
       "4                                               127   \n",
       "\n",
       "   Informations générales - Population INSEE Année N   \\\n",
       "0                                                785    \n",
       "1                                                244    \n",
       "2                                              14518    \n",
       "3                                               1705    \n",
       "4                                                116    \n",
       "\n",
       "  Informations générales - Code département de la commune  \\\n",
       "0                                                  1        \n",
       "1                                                  1        \n",
       "2                                                  1        \n",
       "3                                                  1        \n",
       "4                                                  1        \n",
       "\n",
       "   Dotation de solidarité urbaine - Nombre de bénéficiaires des aides au logement de la commune  \\\n",
       "0                                                 50                                              \n",
       "1                                                 20                                              \n",
       "2                                               4179                                              \n",
       "3                                                184                                              \n",
       "4                                                  5                                              \n",
       "\n",
       "   Dotation de solidarité urbaine - Nombre de logements TH de la commune  \\\n",
       "0                                                334                       \n",
       "1                                                158                       \n",
       "2                                               6936                       \n",
       "3                                                676                       \n",
       "4                                                 67                       \n",
       "\n",
       "   Dotation de solidarité urbaine - Part des bénéficiaires d'aides au logement par rapport au nombre de logements des communes mét de plus de 10000 habitants  \\\n",
       "0                                           0.515391                                                                                                            \n",
       "1                                           0.515391                                                                                                            \n",
       "2                                           0.515391                                                                                                            \n",
       "3                                           0.515391                                                                                                            \n",
       "4                                           0.515391                                                                                                            \n",
       "\n",
       "   Dotation de solidarité urbaine - Nombre de logements sociaux de la commune  \\\n",
       "0                                                 22                            \n",
       "1                                                  0                            \n",
       "2                                               1856                            \n",
       "3                                                 33                            \n",
       "4                                                  0                            \n",
       "\n",
       "   Dotation de solidarité urbaine - Part des logements sociaux dans le total des logements des communes métropolitaines de plus de 10000 habitants  \\\n",
       "0                                           0.232031                                                                                                 \n",
       "1                                           0.232031                                                                                                 \n",
       "2                                           0.232031                                                                                                 \n",
       "3                                           0.232031                                                                                                 \n",
       "4                                           0.232031                                                                                                 \n",
       "\n",
       "   Dotation de solidarité urbaine - Revenu imposable moyen par habitant des communes mét de plus de 10 000 habitants  \\\n",
       "0                                        15396.50086                                                                   \n",
       "1                                        15396.50086                                                                   \n",
       "2                                        15396.50086                                                                   \n",
       "3                                        15396.50086                                                                   \n",
       "4                                        15396.50086                                                                   \n",
       "\n",
       "   Dotation de solidarité urbaine - Revenu imposable par habitant  \\\n",
       "0                                       15554.129936                \n",
       "1                                       15846.807377                \n",
       "2                                       13412.456743                \n",
       "3                                       14992.326686                \n",
       "4                                       15132.862069                \n",
       "\n",
       "   Dotation de solidarité urbaine - Potentiel financier moyen par habitant des communes métropolitaines de plus de 10000 habitants  \\\n",
       "0                                        1292.661052                                                                                 \n",
       "1                                        1292.661052                                                                                 \n",
       "2                                        1292.661052                                                                                 \n",
       "3                                        1292.661052                                                                                 \n",
       "4                                        1292.661052                                                                                 \n",
       "\n",
       "   Potentiel fiscal et financier des communes - Potentiel financier par habitant  \\\n",
       "0                                         593.907500                               \n",
       "1                                         731.578231                               \n",
       "2                                        1093.845395                               \n",
       "3                                         700.956319                               \n",
       "4                                         574.165354                               \n",
       "\n",
       "   EFFORT_FISCAL  RANG_DSU_SUP_10K  RANG_DSU_5K_A_10K  \\\n",
       "0       0.873822                 0                  0   \n",
       "1       0.719266                 0                  0   \n",
       "2       1.036655               345                  0   \n",
       "3       1.062563                 0                  0   \n",
       "4       0.904348                 0                  0   \n",
       "\n",
       "   Dotation de solidarité urbaine - Montant attribution spontanée DSU  \n",
       "0                                                  0                   \n",
       "1                                                  0                   \n",
       "2                                             347085                   \n",
       "3                                                  0                   \n",
       "4                                                  0                   "
      ]
     },
     "execution_count": 49,
     "metadata": {},
     "output_type": "execute_result"
    }
   ],
   "source": [
    "df2"
   ]
  },
  {
   "cell_type": "code",
   "execution_count": 17,
   "metadata": {},
   "outputs": [
    {
     "name": "stdout",
     "output_type": "stream",
     "text": [
      "Choix de la ville : BRETEUIL\n"
     ]
    }
   ],
   "source": [
    "choix_ville = input(\"Choix de la ville : \")"
   ]
  },
  {
   "cell_type": "code",
   "execution_count": 32,
   "metadata": {},
   "outputs": [
    {
     "name": "stdout",
     "output_type": "stream",
     "text": [
      "Numero du département à deux chiffre ex 67 : 60\n"
     ]
    }
   ],
   "source": [
    "departement = input(\"Numero du département à deux chiffre ex 67 : \")"
   ]
  },
  {
   "cell_type": "code",
   "execution_count": 14,
   "metadata": {},
   "outputs": [],
   "source": [
    "dfcity = df2.loc[df2[\"Informations générales - Nom de la commune\"] == choix_ville]"
   ]
  },
  {
   "cell_type": "code",
   "execution_count": 15,
   "metadata": {},
   "outputs": [
    {
     "data": {
      "text/html": [
       "<div>\n",
       "<style scoped>\n",
       "    .dataframe tbody tr th:only-of-type {\n",
       "        vertical-align: middle;\n",
       "    }\n",
       "\n",
       "    .dataframe tbody tr th {\n",
       "        vertical-align: top;\n",
       "    }\n",
       "\n",
       "    .dataframe thead th {\n",
       "        text-align: right;\n",
       "    }\n",
       "</style>\n",
       "<table border=\"1\" class=\"dataframe\">\n",
       "  <thead>\n",
       "    <tr style=\"text-align: right;\">\n",
       "      <th></th>\n",
       "      <th>Informations générales - Nom de la commune</th>\n",
       "      <th>Informations générales - Population DGF Année N'</th>\n",
       "      <th>Informations générales - Population INSEE Année N</th>\n",
       "      <th>Informations générales - Code département de la commune</th>\n",
       "      <th>Dotation de solidarité urbaine - Nombre de bénéficiaires des aides au logement de la commune</th>\n",
       "      <th>Dotation de solidarité urbaine - Nombre de logements TH de la commune</th>\n",
       "      <th>Dotation de solidarité urbaine - Part des bénéficiaires d'aides au logement par rapport au nombre de logements des communes mét de plus de 10000 habitants</th>\n",
       "      <th>Dotation de solidarité urbaine - Nombre de logements sociaux de la commune</th>\n",
       "      <th>Dotation de solidarité urbaine - Part des logements sociaux dans le total des logements des communes métropolitaines de plus de 10000 habitants</th>\n",
       "      <th>Dotation de solidarité urbaine - Revenu imposable moyen par habitant des communes mét de plus de 10 000 habitants</th>\n",
       "      <th>Dotation de solidarité urbaine - Revenu imposable par habitant</th>\n",
       "      <th>Dotation de solidarité urbaine - Potentiel financier moyen par habitant des communes métropolitaines de plus de 10000 habitants</th>\n",
       "      <th>Potentiel fiscal et financier des communes - Potentiel financier par habitant</th>\n",
       "      <th>EFFORT_FISCAL</th>\n",
       "      <th>RANG_DSU_SUP_10K</th>\n",
       "      <th>RANG_DSU_5K_A_10K</th>\n",
       "      <th>Dotation de solidarité urbaine - Montant attribution spontanée DSU</th>\n",
       "    </tr>\n",
       "  </thead>\n",
       "  <tbody>\n",
       "    <tr>\n",
       "      <th>9424</th>\n",
       "      <td>BRETEUIL</td>\n",
       "      <td>4762</td>\n",
       "      <td>4624</td>\n",
       "      <td>27</td>\n",
       "      <td>1004</td>\n",
       "      <td>2080</td>\n",
       "      <td>0.515391</td>\n",
       "      <td>308</td>\n",
       "      <td>0.232031</td>\n",
       "      <td>15396.50086</td>\n",
       "      <td>11211.910467</td>\n",
       "      <td>1292.661052</td>\n",
       "      <td>704.103738</td>\n",
       "      <td>1.691745</td>\n",
       "      <td>0</td>\n",
       "      <td>0</td>\n",
       "      <td>0</td>\n",
       "    </tr>\n",
       "    <tr>\n",
       "      <th>22557</th>\n",
       "      <td>BRETEUIL</td>\n",
       "      <td>4588</td>\n",
       "      <td>4559</td>\n",
       "      <td>60</td>\n",
       "      <td>1568</td>\n",
       "      <td>1964</td>\n",
       "      <td>0.515391</td>\n",
       "      <td>615</td>\n",
       "      <td>0.232031</td>\n",
       "      <td>15396.50086</td>\n",
       "      <td>10095.914016</td>\n",
       "      <td>1292.661052</td>\n",
       "      <td>822.756321</td>\n",
       "      <td>1.494113</td>\n",
       "      <td>0</td>\n",
       "      <td>0</td>\n",
       "      <td>0</td>\n",
       "    </tr>\n",
       "  </tbody>\n",
       "</table>\n",
       "</div>"
      ],
      "text/plain": [
       "      Informations générales - Nom de la commune  \\\n",
       "9424                                    BRETEUIL   \n",
       "22557                                   BRETEUIL   \n",
       "\n",
       "       Informations générales - Population DGF Année N'  \\\n",
       "9424                                               4762   \n",
       "22557                                              4588   \n",
       "\n",
       "       Informations générales - Population INSEE Année N   \\\n",
       "9424                                                4624    \n",
       "22557                                               4559    \n",
       "\n",
       "      Informations générales - Code département de la commune  \\\n",
       "9424                                                  27        \n",
       "22557                                                 60        \n",
       "\n",
       "       Dotation de solidarité urbaine - Nombre de bénéficiaires des aides au logement de la commune  \\\n",
       "9424                                                1004                                              \n",
       "22557                                               1568                                              \n",
       "\n",
       "       Dotation de solidarité urbaine - Nombre de logements TH de la commune  \\\n",
       "9424                                                2080                       \n",
       "22557                                               1964                       \n",
       "\n",
       "       Dotation de solidarité urbaine - Part des bénéficiaires d'aides au logement par rapport au nombre de logements des communes mét de plus de 10000 habitants  \\\n",
       "9424                                            0.515391                                                                                                            \n",
       "22557                                           0.515391                                                                                                            \n",
       "\n",
       "       Dotation de solidarité urbaine - Nombre de logements sociaux de la commune  \\\n",
       "9424                                                 308                            \n",
       "22557                                                615                            \n",
       "\n",
       "       Dotation de solidarité urbaine - Part des logements sociaux dans le total des logements des communes métropolitaines de plus de 10000 habitants  \\\n",
       "9424                                            0.232031                                                                                                 \n",
       "22557                                           0.232031                                                                                                 \n",
       "\n",
       "       Dotation de solidarité urbaine - Revenu imposable moyen par habitant des communes mét de plus de 10 000 habitants  \\\n",
       "9424                                         15396.50086                                                                   \n",
       "22557                                        15396.50086                                                                   \n",
       "\n",
       "       Dotation de solidarité urbaine - Revenu imposable par habitant  \\\n",
       "9424                                        11211.910467                \n",
       "22557                                       10095.914016                \n",
       "\n",
       "       Dotation de solidarité urbaine - Potentiel financier moyen par habitant des communes métropolitaines de plus de 10000 habitants  \\\n",
       "9424                                         1292.661052                                                                                 \n",
       "22557                                        1292.661052                                                                                 \n",
       "\n",
       "       Potentiel fiscal et financier des communes - Potentiel financier par habitant  \\\n",
       "9424                                          704.103738                               \n",
       "22557                                         822.756321                               \n",
       "\n",
       "       EFFORT_FISCAL  RANG_DSU_SUP_10K  RANG_DSU_5K_A_10K  \\\n",
       "9424        1.691745                 0                  0   \n",
       "22557       1.494113                 0                  0   \n",
       "\n",
       "       Dotation de solidarité urbaine - Montant attribution spontanée DSU  \n",
       "9424                                                   0                   \n",
       "22557                                                  0                   "
      ]
     },
     "execution_count": 15,
     "metadata": {},
     "output_type": "execute_result"
    }
   ],
   "source": [
    "dfcity"
   ]
  },
  {
   "cell_type": "code",
   "execution_count": 18,
   "metadata": {},
   "outputs": [
    {
     "data": {
      "text/plain": [
       "('BRETEUIL', '60')"
      ]
     },
     "execution_count": 18,
     "metadata": {},
     "output_type": "execute_result"
    }
   ],
   "source": [
    "choix_ville, departement"
   ]
  },
  {
   "cell_type": "code",
   "execution_count": 33,
   "metadata": {},
   "outputs": [
    {
     "data": {
      "text/html": [
       "<div>\n",
       "<style scoped>\n",
       "    .dataframe tbody tr th:only-of-type {\n",
       "        vertical-align: middle;\n",
       "    }\n",
       "\n",
       "    .dataframe tbody tr th {\n",
       "        vertical-align: top;\n",
       "    }\n",
       "\n",
       "    .dataframe thead th {\n",
       "        text-align: right;\n",
       "    }\n",
       "</style>\n",
       "<table border=\"1\" class=\"dataframe\">\n",
       "  <thead>\n",
       "    <tr style=\"text-align: right;\">\n",
       "      <th></th>\n",
       "      <th>Informations générales - Code INSEE de la commune</th>\n",
       "      <th>Informations générales - Nom de la commune</th>\n",
       "      <th>Informations générales - Code département de la commune</th>\n",
       "      <th>Informations générales - Code SIREN de l'EPCI</th>\n",
       "      <th>Informations générales - Nom de l'EPCI</th>\n",
       "      <th>Informations générales - Exercice</th>\n",
       "      <th>Informations générales - Régime fiscal EPCI</th>\n",
       "      <th>Informations générales - Population DGF Année N'</th>\n",
       "      <th>Informations générales - Population INSEE Année N</th>\n",
       "      <th>Informations générales - Résidences secondaires Année N</th>\n",
       "      <th>...</th>\n",
       "      <th>Dotation de solidarité urbaine - Revenu imposable moyen par habitant des communes mét de 5000 à 9999 habitants</th>\n",
       "      <th>Dotation de solidarité urbaine - Valeur de l'indice synthétique de classement de la commune à la DSU</th>\n",
       "      <th>RANG_DSU_SUP_10K</th>\n",
       "      <th>RANG_DSU_5K_A_10K</th>\n",
       "      <th>Dotation de solidarité urbaine - Montant de la garantie effectivement appliquée à la commune</th>\n",
       "      <th>Dotation de solidarité urbaine - Population QPV</th>\n",
       "      <th>Dotation de solidarité urbaine - Population ZFU</th>\n",
       "      <th>Dotation de solidarité urbaine - Montant attribution spontanée DSU</th>\n",
       "      <th>Dotation de solidarité urbaine - Montant progression de la DSU</th>\n",
       "      <th>Dotation de solidarité urbaine - Montant total réparti</th>\n",
       "    </tr>\n",
       "  </thead>\n",
       "  <tbody>\n",
       "    <tr>\n",
       "      <th>22557</th>\n",
       "      <td>60104</td>\n",
       "      <td>BRETEUIL</td>\n",
       "      <td>60</td>\n",
       "      <td>200068005.0</td>\n",
       "      <td>CC DE L'OISE PICARDE</td>\n",
       "      <td>2019</td>\n",
       "      <td>FPU</td>\n",
       "      <td>4588</td>\n",
       "      <td>4559</td>\n",
       "      <td>29</td>\n",
       "      <td>...</td>\n",
       "      <td>14861.978197</td>\n",
       "      <td>0.0</td>\n",
       "      <td>0</td>\n",
       "      <td>0</td>\n",
       "      <td>0</td>\n",
       "      <td>0</td>\n",
       "      <td>0</td>\n",
       "      <td>0</td>\n",
       "      <td>0</td>\n",
       "      <td>0</td>\n",
       "    </tr>\n",
       "  </tbody>\n",
       "</table>\n",
       "<p>1 rows × 131 columns</p>\n",
       "</div>"
      ],
      "text/plain": [
       "      Informations générales - Code INSEE de la commune  \\\n",
       "22557                                             60104   \n",
       "\n",
       "      Informations générales - Nom de la commune  \\\n",
       "22557                                   BRETEUIL   \n",
       "\n",
       "      Informations générales - Code département de la commune  \\\n",
       "22557                                                 60        \n",
       "\n",
       "       Informations générales - Code SIREN de l'EPCI  \\\n",
       "22557                                    200068005.0   \n",
       "\n",
       "      Informations générales - Nom de l'EPCI  \\\n",
       "22557                   CC DE L'OISE PICARDE   \n",
       "\n",
       "       Informations générales - Exercice  \\\n",
       "22557                               2019   \n",
       "\n",
       "      Informations générales - Régime fiscal EPCI  \\\n",
       "22557                                         FPU   \n",
       "\n",
       "       Informations générales - Population DGF Année N'  \\\n",
       "22557                                              4588   \n",
       "\n",
       "       Informations générales - Population INSEE Année N   \\\n",
       "22557                                               4559    \n",
       "\n",
       "       Informations générales - Résidences secondaires Année N  ...  \\\n",
       "22557                                                 29        ...   \n",
       "\n",
       "       Dotation de solidarité urbaine - Revenu imposable moyen par habitant des communes mét de 5000 à 9999 habitants  \\\n",
       "22557                                       14861.978197                                                                \n",
       "\n",
       "       Dotation de solidarité urbaine - Valeur de l'indice synthétique de classement de la commune à la DSU  \\\n",
       "22557                                                0.0                                                      \n",
       "\n",
       "       RANG_DSU_SUP_10K  RANG_DSU_5K_A_10K  \\\n",
       "22557                 0                  0   \n",
       "\n",
       "       Dotation de solidarité urbaine - Montant de la garantie effectivement appliquée à la commune  \\\n",
       "22557                                                  0                                              \n",
       "\n",
       "       Dotation de solidarité urbaine - Population QPV  \\\n",
       "22557                                                0   \n",
       "\n",
       "       Dotation de solidarité urbaine - Population ZFU  \\\n",
       "22557                                                0   \n",
       "\n",
       "       Dotation de solidarité urbaine - Montant attribution spontanée DSU  \\\n",
       "22557                                                  0                    \n",
       "\n",
       "       Dotation de solidarité urbaine - Montant progression de la DSU  \\\n",
       "22557                                                  0                \n",
       "\n",
       "       Dotation de solidarité urbaine - Montant total réparti  \n",
       "22557                                                  0       \n",
       "\n",
       "[1 rows x 131 columns]"
      ]
     },
     "execution_count": 33,
     "metadata": {},
     "output_type": "execute_result"
    }
   ],
   "source": [
    "df.loc[(df[\"Informations générales - Nom de la commune\"] == choix_ville ) & (df[\"Informations générales - Code département de la commune\"] == int(departement))]"
   ]
  },
  {
   "cell_type": "markdown",
   "metadata": {},
   "source": [
    "# Tout en 1"
   ]
  },
  {
   "cell_type": "code",
   "execution_count": 53,
   "metadata": {},
   "outputs": [],
   "source": [
    "import pandas as pd"
   ]
  },
  {
   "cell_type": "code",
   "execution_count": 54,
   "metadata": {},
   "outputs": [],
   "source": [
    "potentiel_de_la_commune = dfcity[\"Potentiel fiscal et financier des communes - Potentiel financier par habitant\"].values[0]\n",
    "revenu_imposable_commune = dfcity[\"Dotation de solidarité urbaine - Revenu imposable par habitant\"].values[0]"
   ]
  },
  {
   "cell_type": "code",
   "execution_count": 55,
   "metadata": {},
   "outputs": [
    {
     "data": {
      "text/plain": [
       "(1093.8453949999998, 13412.456743)"
      ]
     },
     "execution_count": 55,
     "metadata": {},
     "output_type": "execute_result"
    }
   ],
   "source": [
    "potentiel_de_la_commune, revenu_imposable_commune"
   ]
  },
  {
   "cell_type": "code",
   "execution_count": 56,
   "metadata": {},
   "outputs": [],
   "source": [
    "part_logement_sociaux = dfcity[\"Dotation de solidarité urbaine - Nombre de logements sociaux de la commune\"].values[0]\\\n",
    "/dfcity[\"Dotation de solidarité urbaine - Nombre de logements TH de la commune\"].values[0]\n",
    "\n",
    "part_allocation_commune = dfcity[\"Dotation de solidarité urbaine - Nombre de bénéficiaires des aides au logement de la commune\"].values[0]\\\n",
    "/dfcity[\"Dotation de solidarité urbaine - Nombre de logements TH de la commune\"].values[0]"
   ]
  },
  {
   "cell_type": "code",
   "execution_count": 57,
   "metadata": {},
   "outputs": [
    {
     "data": {
      "text/plain": [
       "(0.2675893886966551, 0.6025086505190311)"
      ]
     },
     "execution_count": 57,
     "metadata": {},
     "output_type": "execute_result"
    }
   ],
   "source": [
    "part_logement_sociaux, part_allocation_commune"
   ]
  },
  {
   "cell_type": "code",
   "execution_count": 58,
   "metadata": {},
   "outputs": [],
   "source": [
    "population_dgf_commune = dfcity[\"Informations générales - Population DGF Année N'\"].values[0]\n",
    "population_insee_commune = dfcity[\"Informations générales - Population INSEE Année N \"].values[0]\n",
    "beneficiaires_aide_au_logement_commune = dfcity[\"Dotation de solidarité urbaine - Nombre de bénéficiaires des aides au logement de la commune\"].values[0]\n",
    "leffort_fiscal = dfcity[\"EFFORT_FISCAL\"].values[0]\n",
    "\n",
    "dsu_annee_precedente = dfcity[\"Dotation de solidarité urbaine - Montant attribution spontanée DSU\"].values[0]\n",
    "\n",
    "if population_insee_commune > 10000:\n",
    "    rang = dfcity[\"RANG_DSU_SUP_10K\"].values[0]\n",
    "elif population_insee_commune > 5000 and population_insee_commune < 10000:\n",
    "    rang = dfcity[\"RANG_DSU_5K_A_10K\"].values[0]\n",
    "else:\n",
    "    print(\"Moins de 10 000 habitants\")"
   ]
  },
  {
   "cell_type": "code",
   "execution_count": 59,
   "metadata": {},
   "outputs": [
    {
     "data": {
      "text/plain": [
       "(14702, 14518, 4179, 1.0366549999999999)"
      ]
     },
     "execution_count": 59,
     "metadata": {},
     "output_type": "execute_result"
    }
   ],
   "source": [
    "population_dgf_commune, population_insee_commune, beneficiaires_aide_au_logement_commune, leffort_fiscal"
   ]
  },
  {
   "cell_type": "code",
   "execution_count": 60,
   "metadata": {},
   "outputs": [
    {
     "name": "stdout",
     "output_type": "stream",
     "text": [
      "DSU 2019 : 383159.7177739274\n"
     ]
    },
    {
     "data": {
      "image/png": "[encoded data removed]",
      "text/plain": [
       "<Figure size 360x360 with 1 Axes>"
      ]
     },
     "metadata": {},
     "output_type": "display_data"
    }
   ],
   "source": [
    "_pfi_reference_10000 = 1292.66 #Potentiel Financier de référence au niveau national communes > 10K\n",
    "pfi_commune = potentiel_de_la_commune #Potentiel financier de la commune pour laquelle on calcule la dotation (ICI RENNES)\n",
    "ecart_potentiel_financier_par_hab = _pfi_reference_10000 / pfi_commune\n",
    "\n",
    "_ri_reference_10000 = 15396.50 #Le revenu imposable par habitant commune plus de 10K hab\n",
    "ri_commune = revenu_imposable_commune #Le revenu imposable par habitant de la commune \n",
    "ecart_revenu_imposable_par_hab = _ri_reference_10000 / ri_commune\n",
    "\n",
    "_part_des_logement_sociaux_plus_de_10000 = 0.232031\n",
    "part_des_logement_sociaux_de_la_commune = part_logement_sociaux\n",
    "ecart_de_pourcentage_de_logements_sociaux = part_des_logement_sociaux_de_la_commune / _part_des_logement_sociaux_plus_de_10000\n",
    "\n",
    "_part_des_allocations_logements_plus_de_10000 = 0.515391\n",
    "part_des_allocations_logements_commune = part_allocation_commune #RENNES\n",
    "ecart_de_pourcentage_allocation_logement = part_des_allocations_logements_commune / _part_des_allocations_logements_plus_de_10000\n",
    "\n",
    "ponderation_potentiel_financier = 0.30 #Possibilité de changé via amendement\n",
    "ponderation_revenu_imposable  = 0.25\n",
    "ponderation_logement_sociaux = 0.15\n",
    "ponderation_allocation_logement = 0.30\n",
    "\n",
    "c1 = ecart_potentiel_financier_par_hab * ponderation_potentiel_financier\n",
    "c2 = ecart_revenu_imposable_par_hab * ponderation_revenu_imposable\n",
    "c3 = ecart_de_pourcentage_de_logements_sociaux * ponderation_logement_sociaux\n",
    "c4 = ecart_de_pourcentage_allocation_logement * ponderation_allocation_logement\n",
    "\n",
    "indice_synthetique = c1 + c2 + c3 + c4\n",
    "\n",
    "rang_de_la_commune = rang #Par rapport à l'indice synthétique RENNES (diiférent en fonction de la commune)\n",
    "numerateur_coeff_rang = ((3.5 * rang_de_la_commune) + 0.5 - (4 * _nombre_de_villes_elligibles))\n",
    "denominateur_coeff_rang = 1 - _nombre_de_villes_elligibles\n",
    "\n",
    "coefficient_de_rang = numerateur_coeff_rang / denominateur_coeff_rang\n",
    "\n",
    "population_insee_de_la_commune = population_insee_commune\n",
    "population_qpv_de_la_commune = beneficiaires_aide_au_logement_commune\n",
    "coefficient_qpv = 1 + 2*(population_qpv_de_la_commune / population_insee_de_la_commune)\n",
    "\n",
    "# ESsayer de retouver le calcul de la valeur de point\n",
    "_valeur_de_point = 0.57362212 #Modification en fonction des critères de dessus (POUR 2019)\n",
    "population_dgf = population_dgf_commune  #Dans fichier DGCL \n",
    "effort_fiscal_de_la_commune = leffort_fiscal if leffort_fiscal < 1.3 else 1.3  #Dans fichier DGCL - Plafond de 1.3\n",
    "\n",
    "montant_abondement = (indice_synthetique \\\n",
    "                      * population_dgf \\\n",
    "                      * effort_fiscal_de_la_commune \\\n",
    "                      * coefficient_de_rang\\\n",
    "                      * coefficient_qpv \\\n",
    "                      * _valeur_de_point)\n",
    "\n",
    "DSU2019 = dsu_annee_precedente + montant_abondement\n",
    "print(f\"DSU 2019 : {DSU2019}\")\n",
    "\n",
    "df = pd.DataFrame({'': [montant_abondement, DSU2018]},\n",
    "                  index=['Abondement', 'DSU2018'])\n",
    "plot = df.plot.pie(y='', title=\"Evolution de l'Abondement\", figsize=(5, 5))"
   ]
  },
  {
   "cell_type": "code",
   "execution_count": null,
   "metadata": {},
   "outputs": [],
   "source": [
    "10% des villes de 5 a 10k"
   ]
  }
 ],
 "metadata": {
  "kernelspec": {
   "display_name": "Python 3",
   "language": "python",
   "name": "python3"
  },
  "language_info": {
   "codemirror_mode": {
    "name": "ipython",
    "version": 3
   },
   "file_extension": ".py",
   "mimetype": "text/x-python",
   "name": "python",
   "nbconvert_exporter": "python",
   "pygments_lexer": "ipython3",
   "version": "3.7.5"
  }
 },
 "nbformat": 4,
 "nbformat_minor": 4
}
